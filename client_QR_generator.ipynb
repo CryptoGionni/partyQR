{
  "nbformat": 4,
  "nbformat_minor": 0,
  "metadata": {
    "colab": {
      "provenance": [],
      "collapsed_sections": [
        "bzV7dPtD3Vb1"
      ],
      "include_colab_link": true
    },
    "kernelspec": {
      "name": "python3",
      "display_name": "Python 3"
    },
    "language_info": {
      "name": "python"
    }
  },
  "cells": [
    {
      "cell_type": "markdown",
      "metadata": {
        "id": "view-in-github",
        "colab_type": "text"
      },
      "source": [
        "<a href=\"https://colab.research.google.com/github/CryptoGionni/partyQR/blob/main/client_QR_generator.ipynb\" target=\"_parent\"><img src=\"https://colab.research.google.com/assets/colab-badge.svg\" alt=\"Open In Colab\"/></a>"
      ]
    },
    {
      "cell_type": "code",
      "execution_count": null,
      "metadata": {
        "colab": {
          "base_uri": "https://localhost:8080/"
        },
        "id": "DP8rWRiuQC9g",
        "outputId": "5e3e83ec-80fb-4b7b-9328-e70012858399"
      },
      "outputs": [
        {
          "output_type": "stream",
          "name": "stdout",
          "text": [
            "Mounted at /content/drive\n"
          ]
        }
      ],
      "source": [
        "from google.colab import drive\n",
        "drive.mount('/content/drive', force_remount=True)                                                       # Indirizzo base del drive\n",
        "#project_path = '/content/drive/MyDrive/partyQR/data'                               # Path progetto \n",
        "#https://drive.google.com/file/d/1IA2OcD389xWAiXHfm9mAcAFIrLSI8orB/view?usp=sharing #link di esempio generato da una immagine-invito-ID"
      ]
    },
    {
      "cell_type": "markdown",
      "source": [
        "#1 genera gli npy con gli HASH ID\n",
        "eseguilo 3 volte: devi cambiare il nome dell'npy"
      ],
      "metadata": {
        "id": "bzV7dPtD3Vb1"
      }
    },
    {
      "cell_type": "code",
      "source": [
        "pip install qrcode[pil]"
      ],
      "metadata": {
        "id": "DFPWRtO08nwz",
        "colab": {
          "base_uri": "https://localhost:8080/"
        },
        "outputId": "4758ab23-9148-4f88-9eee-0556e1320941"
      },
      "execution_count": null,
      "outputs": [
        {
          "output_type": "stream",
          "name": "stdout",
          "text": [
            "Looking in indexes: https://pypi.org/simple, https://us-python.pkg.dev/colab-wheels/public/simple/\n",
            "Collecting qrcode[pil]\n",
            "  Downloading qrcode-7.3.1.tar.gz (43 kB)\n",
            "\u001b[K     |████████████████████████████████| 43 kB 735 kB/s \n",
            "\u001b[?25hRequirement already satisfied: pillow in /usr/local/lib/python3.7/dist-packages (from qrcode[pil]) (7.1.2)\n",
            "Building wheels for collected packages: qrcode\n",
            "  Building wheel for qrcode (setup.py) ... \u001b[?25l\u001b[?25hdone\n",
            "  Created wheel for qrcode: filename=qrcode-7.3.1-py3-none-any.whl size=40402 sha256=2f87aedfdbe2b571bbcacb4717b3fd2179e7bc958819aa06b07703d70272b2bf\n",
            "  Stored in directory: /root/.cache/pip/wheels/93/d7/39/a4111be2cfb8e679938aa671a37888b6afb1f9e7d748e94492\n",
            "Successfully built qrcode\n",
            "Installing collected packages: qrcode\n",
            "Successfully installed qrcode-7.3.1\n"
          ]
        }
      ]
    },
    {
      "cell_type": "code",
      "source": [
        "import uuid         #hash\n",
        "import random\n",
        "import string\n",
        "import numpy as np\n",
        "import qrcode       #qr"
      ],
      "metadata": {
        "id": "OUVF2FkW3ZjQ"
      },
      "execution_count": null,
      "outputs": []
    },
    {
      "cell_type": "code",
      "source": [
        "def hashGenerate(invitato):\n",
        "    '''\n",
        "    generate 200 HASH, save them in specific files .npy\n",
        "    maggiorenni.npy\n",
        "    minorenni.npy\n",
        "    premium.npy\n",
        "        \n",
        "    ----------\n",
        "    Parameters\n",
        "    None.\n",
        "\n",
        "    ----------\n",
        "    Returns\n",
        "    None.\n",
        "\n",
        "    '''\n",
        "    hashIds = []#vedi se funziona con sta struttura tupla che non è mutabile https://www.geeksforgeeks.org/python-list-vs-array-vs-tuple/\n",
        "    \n",
        "    for i in range(0,200):  #0-199 cioè 200 codici\n",
        "        # Generate a random string\n",
        "        # with 32 characters.\n",
        "        randomstring = ''.join([random.choice(string.ascii_letters\n",
        "        \t\t\t+ string.digits) for n in range(32)])\n",
        "    \n",
        "        # initializing a string\n",
        "        ID = str(i) + \"passwordSuperSegreta\" + randomstring\n",
        "        \n",
        "        # using NAMESPACE_URL as namespace\n",
        "        # to generate SHA-1 hash uuid\n",
        "        #print (uuid.uuid5(uuid.NAMESPACE_URL, ID))\n",
        "        \n",
        "        hashIds.append(uuid.uuid5(uuid.NAMESPACE_URL, ID))\n",
        "            \n",
        "    \n",
        "    np.save('/content/drive/MyDrive/partyQR/data/' + invitato + '.npy', hashIds)\n",
        "\n",
        "    \n",
        "    "
      ],
      "metadata": {
        "id": "XEPLvNvw4MQj"
      },
      "execution_count": null,
      "outputs": []
    },
    {
      "cell_type": "markdown",
      "source": [
        "#2.1 genera il QR dell'ID memorizzato nell'npy\n",
        "devi eseguirlo 3: cambia l'npy del load e del path in cui salvarli"
      ],
      "metadata": {
        "id": "um7CoGEU2Tbq"
      }
    },
    {
      "cell_type": "code",
      "source": [
        "\n",
        "    # Printing type of arr object\n",
        "    #print(\"Array is of type: \", type(dataIDs))\n",
        "    \n",
        "    # Printing array dimensions (axes)\n",
        "    #print(\"No. of dimensions: \", dataIDs.ndim)\n",
        "    \n",
        "    # Printing shape of array\n",
        "    #print(\"Shape of array: \", dataIDs.shape)\n",
        "    \n",
        "    # Printing size (total number of elements) of array\n",
        "    #print(\"Size of array: \", dataIDs.size)\n",
        "    \n",
        "    # Printing type of elements in array\n",
        "    #print(\"Array stores elements of type: \", dataIDs.dtype)\n",
        "\n",
        "    #print(dataIDs[0,]) #corretto"
      ],
      "metadata": {
        "id": "5qpvy1Z92qqC"
      },
      "execution_count": null,
      "outputs": []
    },
    {
      "cell_type": "code",
      "source": [
        "def saveQr(invitato):\n",
        "\n",
        "\n",
        "    # Data to be encoded\n",
        "    dataIDs = np.load(\"/content/drive/MyDrive/partyQR/data/\" + invitato + \".npy\", allow_pickle=True)\n",
        "    \n",
        "    for i in dataIDs:\n",
        "      # Encoding data using make() function\n",
        "     img = qrcode.make(i)  #i anzichè dataIDs[int(i),]\n",
        "      \n",
        "      # Saving as an image file\n",
        "     img.save(\"/content/drive/MyDrive/partyQR/QrSecco/\" + invitato + \"/\" + 'hashID-' + str(i) + '.png')\n"
      ],
      "metadata": {
        "id": "kkorM5aL4MDH"
      },
      "execution_count": null,
      "outputs": []
    },
    {
      "cell_type": "markdown",
      "source": [
        "#2.2 genera l'immagine invito/locandina e incolla il QR-ID e salvala nella cartella corrispondente"
      ],
      "metadata": {
        "id": "2vfwDMCb2kFc"
      }
    },
    {
      "cell_type": "code",
      "source": [
        "from PIL import Image\n",
        "import os\n"
      ],
      "metadata": {
        "id": "nvz71QJrBwCM"
      },
      "execution_count": null,
      "outputs": []
    },
    {
      "cell_type": "code",
      "source": [
        "def meshQR(invitato):\n",
        "  '''\n",
        "  unire img background con QR invito\n",
        "  useful: https://www.geeksforgeeks.org/python-copy-and-paste-images-onto-other-image-using-pillow/\n",
        "  '''\n",
        "\n",
        "  # open the image\n",
        "  template = Image.open('/content/drive/MyDrive/partyQR/template.png')\n",
        "  QRpath = \"/content/drive/MyDrive/partyQR/QrSecco/\" + invitato\n",
        "\n",
        "  # make a copy the image so that\n",
        "  # the original image does not get affected\n",
        "  invito = template.copy()\n",
        "  listImg = os.listdir(QRpath)\n",
        "\n",
        "  #ha cercato nella cartella giusta (minorenni, premium) una img che ha il nome corrispondente a una img nel path maggiorenni\n",
        "  #qr_name non viene aggiornata\n",
        "  for qr_name in listImg:\n",
        "    qr = Image.open(\"/content/drive/MyDrive/partyQR/QrSecco/\" + invitato + \"/\" + qr_name)\n",
        "    Image2copy = qr.copy()\n",
        "\n",
        "    # paste image giving dimensions\n",
        "    invito.paste(Image2copy, (355,355))\n",
        "\n",
        "    # save the image\n",
        "    invito.save(\"/content/drive/MyDrive/partyQR/inviti/\" + invitato + \"/invito-\" + qr_name)\n",
        "\n"
      ],
      "metadata": {
        "id": "IxWsZt1au6iC"
      },
      "execution_count": null,
      "outputs": []
    },
    {
      "cell_type": "markdown",
      "source": [
        "# usage: genero gli inviti"
      ],
      "metadata": {
        "id": "OUmXmJoWy1tj"
      }
    },
    {
      "cell_type": "code",
      "source": [
        "invitati = ['maggiorenni' , 'minorenni' , 'premium']\n",
        "for chi in invitati:\n",
        "  #hashGenerate(chi)\n",
        "  #saveQr(chi)\n",
        "  #meshQR(chi)\n",
        "\n"
      ],
      "metadata": {
        "id": "e1PEmRo0y1tn"
      },
      "execution_count": null,
      "outputs": []
    },
    {
      "cell_type": "markdown",
      "source": [
        "#3.1 - 3.2\n",
        "3.1 genera link all'invito \n",
        " \n",
        "3.2 genera QR e salvalo nella corrispondente cartella"
      ],
      "metadata": {
        "id": "j5wuo29620Rm"
      }
    },
    {
      "cell_type": "code",
      "source": [
        "from subprocess import getoutput\n",
        "from IPython.display import HTML\n",
        "#mi sa che serve la OS library per prendere i file uno a uno\n",
        "\n",
        "# need to install xattr\n",
        "!apt-get install xattr > /dev/null\n"
      ],
      "metadata": {
        "id": "Y-DtE4LqRB_u"
      },
      "execution_count": null,
      "outputs": []
    },
    {
      "cell_type": "code",
      "source": [
        "def generateLink(invitato):\n",
        "\n",
        "    \n",
        "  invitePath = \"/content/drive/MyDrive/partyQR/inviti/\" + invitato + \"/\"\n",
        "  listImg = os.listdir(invitePath)\n",
        "\n",
        "  for invite_name in listImg:\n",
        "\n",
        "    #path invito\n",
        "    invito = invitePath + invite_name\n",
        "\n",
        "    # get the link\n",
        "    #https://www.geeksforgeeks.org/string-formatting-in-python/\n",
        "    fid = getoutput(\"xattr -p 'user.drive.id' %s \"%invito) #questo sarà l'invito effettivo \n",
        "        #che contiene il QR-ID. a questo punterà il link qui sotto\n",
        "\n",
        "    link = \"https://drive.google.com/file/d/\" + fid + \"/view?usp=sharing\"\n",
        "\n",
        "    # Encoding data using make() function\n",
        "    img = qrcode.make(link)  #0 è il primo elemento del vettore maggiorenni.npy\n",
        "    \n",
        "    # Saving as an image file\n",
        "    img.save('/content/drive/MyDrive/partyQR/link-inviti/link-' + invitato + \"/link-\" + invite_name)\n",
        "\n",
        "    #print(fid) #esempio: 1zPTOttz1FWJKt43kdQVNjMX5xZNlWT0O\n",
        "    #quindi il link saraà del tipo: https://drive.google.com/file/d/1fr0Z1UZxWCiWcF5JRVomitPX4QKVYpzO/view?usp=sharing\n",
        "    \n",
        "    #HTML(f\"<a href=https://drive.google.com/file/d/{fid}/view?usp=sharing target=_blank>img</a>\") #questo diventerà il QR da mostrare \n",
        "        #al cliente"
      ],
      "metadata": {
        "id": "230-DkcqR2F9"
      },
      "execution_count": null,
      "outputs": []
    },
    {
      "cell_type": "markdown",
      "source": [
        "#usage"
      ],
      "metadata": {
        "id": "lh4bvxz0MEzM"
      }
    },
    {
      "cell_type": "code",
      "source": [
        "invitati = ['maggiorenni' , 'minorenni' , 'premium']\n",
        "for chi in invitati:\n",
        "  generateLink(chi)"
      ],
      "metadata": {
        "id": "LdSyPRw6l2P8"
      },
      "execution_count": null,
      "outputs": []
    }
  ]
}